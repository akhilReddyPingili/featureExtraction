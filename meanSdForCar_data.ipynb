{
  "nbformat": 4,
  "nbformat_minor": 0,
  "metadata": {
    "colab": {
      "name": "Untitled38.ipynb",
      "provenance": [],
      "include_colab_link": true
    },
    "kernelspec": {
      "name": "python3",
      "display_name": "Python 3"
    }
  },
  "cells": [
    {
      "cell_type": "markdown",
      "metadata": {
        "id": "view-in-github",
        "colab_type": "text"
      },
      "source": [
        "<a href=\"https://colab.research.google.com/github/akhilReddyPingili/featureExtraction/blob/master/meanSdForCar_data.ipynb\" target=\"_parent\"><img src=\"https://colab.research.google.com/assets/colab-badge.svg\" alt=\"Open In Colab\"/></a>"
      ]
    },
    {
      "cell_type": "code",
      "metadata": {
        "id": "C7-HDKV167iJ",
        "colab_type": "code",
        "outputId": "d1f6839a-f494-4efd-d54e-93f06c276d24",
        "colab": {
          "base_uri": "https://localhost:8080/",
          "height": 151
        }
      },
      "source": [
        "!git clone https://github.com/akhilReddyPingili/computerVision.git"
      ],
      "execution_count": 1,
      "outputs": [
        {
          "output_type": "stream",
          "text": [
            "Cloning into 'computerVision'...\n",
            "remote: Enumerating objects: 7, done.\u001b[K\n",
            "remote: Counting objects:  14% (1/7)\u001b[K\rremote: Counting objects:  28% (2/7)\u001b[K\rremote: Counting objects:  42% (3/7)\u001b[K\rremote: Counting objects:  57% (4/7)\u001b[K\rremote: Counting objects:  71% (5/7)\u001b[K\rremote: Counting objects:  85% (6/7)\u001b[K\rremote: Counting objects: 100% (7/7)\u001b[K\rremote: Counting objects: 100% (7/7), done.\u001b[K\n",
            "remote: Compressing objects: 100% (7/7), done.\u001b[K\n",
            "remote: Total 3991 (delta 1), reused 0 (delta 0), pack-reused 3984\u001b[K\n",
            "Receiving objects: 100% (3991/3991), 327.02 MiB | 46.37 MiB/s, done.\n",
            "Resolving deltas: 100% (102/102), done.\n",
            "Checking out files: 100% (4002/4002), done.\n"
          ],
          "name": "stdout"
        }
      ]
    },
    {
      "cell_type": "code",
      "metadata": {
        "id": "RSHfmXPS4j_E",
        "colab_type": "code",
        "colab": {
          "base_uri": "https://localhost:8080/",
          "height": 104
        },
        "outputId": "adb79a31-b1ce-4f5f-99ff-d118f3a8c9aa"
      },
      "source": [
        "# import the necessary packages\n",
        "  from scipy.spatial import distance as dist\n",
        "  from imutils import paths\n",
        "  from scipy.stats import kurtosis\n",
        "  import numpy as np\n",
        "  import cv2\n",
        "\n",
        "  # grab the list of image paths and initialize the index to store the image filename\n",
        "  # and feature vector\n",
        "  imagePaths = sorted(list(paths.list_images(\"/content/computerVision/Car_Dataset/dinos\")))\n",
        "  print(imagePaths)\n",
        "  index = {}\n",
        "\n",
        "  # loop over the image paths\n",
        "  for imagePath in imagePaths:\n",
        "  # load the image and extract the filename\n",
        "    image = cv2.imread(imagePath)\n",
        "    filename = imagePath[imagePath.rfind(\"/\") + 1:]\n",
        "    print(filename)\n",
        "  #dinos/trex_01.png\n",
        "  # extract the mean and standard deviation from each channel of the\n",
        "  # BGR image, then update the index with the feature vector\n",
        "    (means, stds) = cv2.meanStdDev(image)\n",
        "    features = np.concatenate([means, stds]).flatten()\n",
        "    index[filename] = features\n",
        "\n",
        "  # display the query image and grab the sorted keys of the index dictionary\n",
        "    query = cv2.imread(imagePaths[0])\n",
        "  #cv2.imshow(\"Query (kwid.jpg)\", query)\n",
        "  keys = sorted(index.keys())\n",
        "  \n",
        "  number =0\n",
        "  # loop over the filenames in the dictionary\n",
        "  for (i, k) in enumerate(keys):\n",
        "  # if this is the query image, ignore it\n",
        "    if k == \"duster.jpg\":\n",
        "      continue\n",
        "\n",
        "  # load the current image and compute the Euclidean distance between the\n",
        "  # query image (i.e. the 1st image) and the current image\n",
        "    image = cv2.imread(imagePaths[i])\n",
        "    d = dist.euclidean(index[\"duster.jpg\"], index[k])\n",
        "\n",
        "  # display the distance between the query image and the current image\n",
        "\n",
        "    cv2.putText(image, \"%.2f\" % (d), (10, 30), cv2.FONT_HERSHEY_SIMPLEX, 0.75, (0, 255, 0), 2)\n",
        "    \n",
        "    image_name = str(number)+ \".jpg\"\n",
        "    cv2.imwrite(image_name, image)\n",
        "    number+=1\n",
        "\n",
        "  # wait for a keypress\n",
        "  #cv2.waitKey(0\n"
      ],
      "execution_count": 3,
      "outputs": [
        {
          "output_type": "stream",
          "text": [
            "['/content/computerVision/Car_Dataset/dinos/duster.jpg', '/content/computerVision/Car_Dataset/dinos/kwid.jpg', '/content/computerVision/Car_Dataset/dinos/micra.jpg']\n",
            "duster.jpg\n",
            "kwid.jpg\n",
            "micra.jpg\n"
          ],
          "name": "stdout"
        }
      ]
    }
  ]
}